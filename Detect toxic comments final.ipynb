{
 "cells": [
  {
   "cell_type": "code",
   "execution_count": 1,
   "metadata": {
    "id": "rspdHXmNnXRU"
   },
   "outputs": [],
   "source": [
    "import numpy as np\n",
    "import pandas as pd\n",
    "import matplotlib.pyplot as plt\n",
    "%matplotlib inline"
   ]
  },
  {
   "cell_type": "code",
   "execution_count": 2,
   "metadata": {
    "id": "zk7Qsf0UnXRe"
   },
   "outputs": [],
   "source": [
    "import spacy\n",
    "nlp = spacy.load('en_core_web_sm' , disable = ['ner' , 'tagger' , 'parser'])"
   ]
  },
  {
   "cell_type": "code",
   "execution_count": 8,
   "metadata": {
    "colab": {
     "base_uri": "https://localhost:8080/",
     "height": 195
    },
    "id": "uoGgATLLnXRl",
    "outputId": "4dc6cd4c-1f8c-4903-e96c-1c02a44af0a8"
   },
   "outputs": [
    {
     "data": {
      "text/html": [
       "<div>\n",
       "<style scoped>\n",
       "    .dataframe tbody tr th:only-of-type {\n",
       "        vertical-align: middle;\n",
       "    }\n",
       "\n",
       "    .dataframe tbody tr th {\n",
       "        vertical-align: top;\n",
       "    }\n",
       "\n",
       "    .dataframe thead th {\n",
       "        text-align: right;\n",
       "    }\n",
       "</style>\n",
       "<table border=\"1\" class=\"dataframe\">\n",
       "  <thead>\n",
       "    <tr style=\"text-align: right;\">\n",
       "      <th></th>\n",
       "      <th>id</th>\n",
       "      <th>comment_text</th>\n",
       "      <th>toxic</th>\n",
       "      <th>severe_toxic</th>\n",
       "      <th>obscene</th>\n",
       "      <th>threat</th>\n",
       "      <th>insult</th>\n",
       "      <th>identity_hate</th>\n",
       "    </tr>\n",
       "  </thead>\n",
       "  <tbody>\n",
       "    <tr>\n",
       "      <th>0</th>\n",
       "      <td>6dd872eccac27249</td>\n",
       "      <td>What is your problem Man? \\n\\nWhy do you have ...</td>\n",
       "      <td>1</td>\n",
       "      <td>0</td>\n",
       "      <td>0</td>\n",
       "      <td>0</td>\n",
       "      <td>0</td>\n",
       "      <td>0</td>\n",
       "    </tr>\n",
       "    <tr>\n",
       "      <th>1</th>\n",
       "      <td>ade9995deed09f81</td>\n",
       "      <td>Warning \\n\\nUnder a decision of the Arbitratio...</td>\n",
       "      <td>0</td>\n",
       "      <td>0</td>\n",
       "      <td>0</td>\n",
       "      <td>0</td>\n",
       "      <td>0</td>\n",
       "      <td>0</td>\n",
       "    </tr>\n",
       "    <tr>\n",
       "      <th>2</th>\n",
       "      <td>5dfe275dc5eea33a</td>\n",
       "      <td>Thanks for your response, much better than thi...</td>\n",
       "      <td>0</td>\n",
       "      <td>0</td>\n",
       "      <td>0</td>\n",
       "      <td>0</td>\n",
       "      <td>0</td>\n",
       "      <td>0</td>\n",
       "    </tr>\n",
       "    <tr>\n",
       "      <th>3</th>\n",
       "      <td>73f4d9f52106b271</td>\n",
       "      <td>\"\\n\\n Tibet \\n\\nPlease do not add commercial l...</td>\n",
       "      <td>0</td>\n",
       "      <td>0</td>\n",
       "      <td>0</td>\n",
       "      <td>0</td>\n",
       "      <td>0</td>\n",
       "      <td>0</td>\n",
       "    </tr>\n",
       "    <tr>\n",
       "      <th>4</th>\n",
       "      <td>2939e59c144a4432</td>\n",
       "      <td>Calling me a joke is not a personal attack? Hy...</td>\n",
       "      <td>1</td>\n",
       "      <td>0</td>\n",
       "      <td>0</td>\n",
       "      <td>0</td>\n",
       "      <td>0</td>\n",
       "      <td>0</td>\n",
       "    </tr>\n",
       "  </tbody>\n",
       "</table>\n",
       "</div>"
      ],
      "text/plain": [
       "                 id                                       comment_text  toxic  \\\n",
       "0  6dd872eccac27249  What is your problem Man? \\n\\nWhy do you have ...      1   \n",
       "1  ade9995deed09f81  Warning \\n\\nUnder a decision of the Arbitratio...      0   \n",
       "2  5dfe275dc5eea33a  Thanks for your response, much better than thi...      0   \n",
       "3  73f4d9f52106b271  \"\\n\\n Tibet \\n\\nPlease do not add commercial l...      0   \n",
       "4  2939e59c144a4432  Calling me a joke is not a personal attack? Hy...      1   \n",
       "\n",
       "   severe_toxic  obscene  threat  insult  identity_hate  \n",
       "0             0        0       0       0              0  \n",
       "1             0        0       0       0              0  \n",
       "2             0        0       0       0              0  \n",
       "3             0        0       0       0              0  \n",
       "4             0        0       0       0              0  "
      ]
     },
     "execution_count": 8,
     "metadata": {},
     "output_type": "execute_result"
    }
   ],
   "source": [
    "path = 'train.csv'\n",
    "df = pd.read_csv(path)\n",
    "df = df.sample(frac = 1)\n",
    "df = df.reset_index(drop=True)\n",
    "df.head() "
   ]
  },
  {
   "cell_type": "markdown",
   "metadata": {
    "id": "S6GxSgWinXRr"
   },
   "source": [
    "### Preprocessing the data"
   ]
  },
  {
   "cell_type": "code",
   "execution_count": 9,
   "metadata": {
    "colab": {
     "base_uri": "https://localhost:8080/",
     "height": 195
    },
    "id": "b53uJ5UonXRs",
    "outputId": "241807d1-297f-45ad-9172-477347826388"
   },
   "outputs": [
    {
     "data": {
      "text/html": [
       "<div>\n",
       "<style scoped>\n",
       "    .dataframe tbody tr th:only-of-type {\n",
       "        vertical-align: middle;\n",
       "    }\n",
       "\n",
       "    .dataframe tbody tr th {\n",
       "        vertical-align: top;\n",
       "    }\n",
       "\n",
       "    .dataframe thead th {\n",
       "        text-align: right;\n",
       "    }\n",
       "</style>\n",
       "<table border=\"1\" class=\"dataframe\">\n",
       "  <thead>\n",
       "    <tr style=\"text-align: right;\">\n",
       "      <th></th>\n",
       "      <th>comment_text</th>\n",
       "      <th>toxic</th>\n",
       "      <th>severe_toxic</th>\n",
       "      <th>obscene</th>\n",
       "      <th>threat</th>\n",
       "      <th>insult</th>\n",
       "      <th>identity_hate</th>\n",
       "    </tr>\n",
       "  </thead>\n",
       "  <tbody>\n",
       "    <tr>\n",
       "      <th>0</th>\n",
       "      <td>What is your problem Man? \\n\\nWhy do you have ...</td>\n",
       "      <td>1</td>\n",
       "      <td>0</td>\n",
       "      <td>0</td>\n",
       "      <td>0</td>\n",
       "      <td>0</td>\n",
       "      <td>0</td>\n",
       "    </tr>\n",
       "    <tr>\n",
       "      <th>1</th>\n",
       "      <td>Warning \\n\\nUnder a decision of the Arbitratio...</td>\n",
       "      <td>0</td>\n",
       "      <td>0</td>\n",
       "      <td>0</td>\n",
       "      <td>0</td>\n",
       "      <td>0</td>\n",
       "      <td>0</td>\n",
       "    </tr>\n",
       "    <tr>\n",
       "      <th>2</th>\n",
       "      <td>Thanks for your response, much better than thi...</td>\n",
       "      <td>0</td>\n",
       "      <td>0</td>\n",
       "      <td>0</td>\n",
       "      <td>0</td>\n",
       "      <td>0</td>\n",
       "      <td>0</td>\n",
       "    </tr>\n",
       "    <tr>\n",
       "      <th>3</th>\n",
       "      <td>\"\\n\\n Tibet \\n\\nPlease do not add commercial l...</td>\n",
       "      <td>0</td>\n",
       "      <td>0</td>\n",
       "      <td>0</td>\n",
       "      <td>0</td>\n",
       "      <td>0</td>\n",
       "      <td>0</td>\n",
       "    </tr>\n",
       "    <tr>\n",
       "      <th>4</th>\n",
       "      <td>Calling me a joke is not a personal attack? Hy...</td>\n",
       "      <td>1</td>\n",
       "      <td>0</td>\n",
       "      <td>0</td>\n",
       "      <td>0</td>\n",
       "      <td>0</td>\n",
       "      <td>0</td>\n",
       "    </tr>\n",
       "  </tbody>\n",
       "</table>\n",
       "</div>"
      ],
      "text/plain": [
       "                                        comment_text  toxic  severe_toxic  \\\n",
       "0  What is your problem Man? \\n\\nWhy do you have ...      1             0   \n",
       "1  Warning \\n\\nUnder a decision of the Arbitratio...      0             0   \n",
       "2  Thanks for your response, much better than thi...      0             0   \n",
       "3  \"\\n\\n Tibet \\n\\nPlease do not add commercial l...      0             0   \n",
       "4  Calling me a joke is not a personal attack? Hy...      1             0   \n",
       "\n",
       "   obscene  threat  insult  identity_hate  \n",
       "0        0       0       0              0  \n",
       "1        0       0       0              0  \n",
       "2        0       0       0              0  \n",
       "3        0       0       0              0  \n",
       "4        0       0       0              0  "
      ]
     },
     "execution_count": 9,
     "metadata": {},
     "output_type": "execute_result"
    }
   ],
   "source": [
    "df.drop('id' , axis = 1 , inplace = True)\n",
    "df.dropna(inplace= True)\n",
    "df.head()"
   ]
  },
  {
   "cell_type": "code",
   "execution_count": 6,
   "metadata": {
    "colab": {
     "base_uri": "https://localhost:8080/",
     "height": 34
    },
    "id": "FNm8HkFXnXRy",
    "outputId": "63f6003f-78fa-44f3-be4a-0d024465a183"
   },
   "outputs": [
    {
     "data": {
      "text/plain": [
       "[]"
      ]
     },
     "execution_count": 6,
     "metadata": {
      "tags": []
     },
     "output_type": "execute_result"
    }
   ],
   "source": [
    "drop_list = []\n",
    "for idx in range(len(df)):\n",
    "    text = df.iloc[idx , 0]\n",
    "    if type(text) != str or text == \"\" or df.iloc[idx , 0].isspace() :\n",
    "        drop_list.append(idx)\n",
    "drop_list"
   ]
  },
  {
   "cell_type": "code",
   "execution_count": 7,
   "metadata": {
    "id": "ZgJlIKjmnXR6"
   },
   "outputs": [],
   "source": [
    "# df.iloc[: , 1:].value_counts()"
   ]
  },
  {
   "cell_type": "markdown",
   "metadata": {
    "id": "E05ZVHzznXSA"
   },
   "source": [
    "### Reducing the number of comments with no classes"
   ]
  },
  {
   "cell_type": "code",
   "execution_count": 8,
   "metadata": {
    "colab": {
     "base_uri": "https://localhost:8080/",
     "height": 34
    },
    "id": "8Fz6PRC8nXSB",
    "outputId": "565aa58b-8fd5-47aa-ac72-41badaf501db"
   },
   "outputs": [
    {
     "data": {
      "text/plain": [
       "(394.0732213246768, 6, 5000)"
      ]
     },
     "execution_count": 8,
     "metadata": {
      "tags": []
     },
     "output_type": "execute_result"
    }
   ],
   "source": [
    "comment_len = [len(x) for x in df['comment_text']]\n",
    "comment_len = np.array(comment_len)\n",
    "comment_len.mean() , comment_len.min() , comment_len.max()"
   ]
  },
  {
   "cell_type": "code",
   "execution_count": 9,
   "metadata": {
    "colab": {
     "base_uri": "https://localhost:8080/",
     "height": 296
    },
    "id": "NK_BzEQDnXSI",
    "outputId": "0614b5a2-27cf-4c97-e279-0a062b602082"
   },
   "outputs": [
    {
     "data": {
      "text/plain": [
       "Text(0, 0.5, 'no of comments')"
      ]
     },
     "execution_count": 9,
     "metadata": {
      "tags": []
     },
     "output_type": "execute_result"
    },
    {
     "data": {
      "image/png": "[encoded data removed]",
      "text/plain": [
       "<Figure size 432x288 with 1 Axes>"
      ]
     },
     "metadata": {
      "needs_background": "light",
      "tags": []
     },
     "output_type": "display_data"
    }
   ],
   "source": [
    "bins = [0 , 200 ,400 ,600, 800 , 1000 , 1200 ]\n",
    "\n",
    "plt.hist(comment_len , bins = bins ,rwidth = 0.90)\n",
    "plt.xlabel('length of comment')\n",
    "plt.ylabel('no of comments')"
   ]
  },
  {
   "cell_type": "code",
   "execution_count": 10,
   "metadata": {
    "colab": {
     "base_uri": "https://localhost:8080/",
     "height": 34
    },
    "id": "twF_564JnXSO",
    "outputId": "4577fd50-5f03-411b-95e9-a244ede16edf"
   },
   "outputs": [
    {
     "data": {
      "text/plain": [
       "(159571, 6)"
      ]
     },
     "execution_count": 10,
     "metadata": {
      "tags": []
     },
     "output_type": "execute_result"
    }
   ],
   "source": [
    "comments = df.iloc[: , 0]\n",
    "labels = df.iloc[: , 1:]\n",
    "labels.shape"
   ]
  },
  {
   "cell_type": "code",
   "execution_count": 11,
   "metadata": {
    "id": "TUsYDibTnXSV"
   },
   "outputs": [],
   "source": [
    "# y = np.zeros(labels.shape[1\n",
    "y = [[],[],[],[],[],[]]\n",
    "for i in range(len(comments)):\n",
    "    length = len(comments[i])\n",
    "    for j in range(6):\n",
    "        if labels.iloc[i , j] == 1:\n",
    "            y[j].append(length)\n"
   ]
  },
  {
   "cell_type": "code",
   "execution_count": 12,
   "metadata": {
    "colab": {
     "base_uri": "https://localhost:8080/",
     "height": 296
    },
    "id": "V_hNE2EJnXSc",
    "outputId": "6ca8af0b-2597-497c-aa57-5b73556b9457"
   },
   "outputs": [
    {
     "data": {
      "text/plain": [
       "Text(0, 0.5, 'no of comments')"
      ]
     },
     "execution_count": 12,
     "metadata": {
      "tags": []
     },
     "output_type": "execute_result"
    },
    {
     "data": {
      "image/png": "[encoded data removed]",
      "text/plain": [
       "<Figure size 432x288 with 1 Axes>"
      ]
     },
     "metadata": {
      "needs_background": "light",
      "tags": []
     },
     "output_type": "display_data"
    }
   ],
   "source": [
    "bins = [0 , 200 ,400 ,600, 800 , 1000 , 1200 ]\n",
    "plt.hist(y ,bins = bins , rwidth = 0.90)\n",
    "plt.xlabel('length of comment of various categories')\n",
    "plt.ylabel('no of comments')"
   ]
  },
  {
   "cell_type": "code",
   "execution_count": 13,
   "metadata": {
    "id": "AmhiNRxGnXSh"
   },
   "outputs": [],
   "source": [
    "drop_list = []\n",
    "for i in range(len(comments)):\n",
    "    if comment_len[i] > 350:\n",
    "        drop_list.append(i)\n",
    "comments.drop(drop_list , axis = 0 , inplace = True)\n",
    "# comment_len.drop(drop_list , axis =0 , inplace = True)\n",
    "labels.drop(drop_list , axis = 0 , inplace = True)"
   ]
  },
  {
   "cell_type": "code",
   "execution_count": 14,
   "metadata": {
    "colab": {
     "base_uri": "https://localhost:8080/",
     "height": 34
    },
    "id": "OF6gDnoOnXSn",
    "outputId": "040add84-bff9-4f46-fc81-8eb9573deedd"
   },
   "outputs": [
    {
     "data": {
      "text/plain": [
       "((109344,), (109344, 6))"
      ]
     },
     "execution_count": 14,
     "metadata": {
      "tags": []
     },
     "output_type": "execute_result"
    }
   ],
   "source": [
    "comments.shape , labels.shape"
   ]
  },
  {
   "cell_type": "code",
   "execution_count": 15,
   "metadata": {
    "colab": {
     "base_uri": "https://localhost:8080/",
     "height": 34
    },
    "id": "BeEQDi32nXSu",
    "outputId": "36a37872-0397-407e-b6de-65121648ca6c"
   },
   "outputs": [
    {
     "name": "stdout",
     "output_type": "stream",
     "text": [
      "36.716571306816405 %\n"
     ]
    }
   ],
   "source": [
    "print(f\"{((159571 - 100982)/159571)*100} %\")"
   ]
  },
  {
   "cell_type": "markdown",
   "metadata": {
    "id": "7sFqs_o3nXSy"
   },
   "source": [
    "### Doing the standard preprocessing for textual data :"
   ]
  },
  {
   "cell_type": "markdown",
   "metadata": {
    "id": "1uB2_VTGnXSz"
   },
   "source": [
    "### lower casing"
   ]
  },
  {
   "cell_type": "code",
   "execution_count": 16,
   "metadata": {
    "id": "3kh5-3nHnXS0"
   },
   "outputs": [],
   "source": [
    "comments = comments.str.lower()"
   ]
  },
  {
   "cell_type": "markdown",
   "metadata": {
    "id": "1BqYDZD6nXS4"
   },
   "source": [
    "### remove punctuations"
   ]
  },
  {
   "cell_type": "code",
   "execution_count": 17,
   "metadata": {
    "colab": {
     "base_uri": "https://localhost:8080/",
     "height": 101
    },
    "id": "K5h4fNfInXS6",
    "outputId": "467a4841-5d39-4257-889a-e2f078dc096d"
   },
   "outputs": [
    {
     "name": "stdout",
     "output_type": "stream",
     "text": [
      " mediation  this is a request to see if you will submit to formal mediation regarding your actions on  this issue  thanks talk \n",
      "\"\n",
      "\n",
      " mediation  \n",
      "this is a request to see if you will submit to formal mediation regarding your actions on  this issue.  thanks. (talk) \"\n"
     ]
    }
   ],
   "source": [
    "punctuations = '!\"#$%&()*+,-./:;<=>?@[\\\\]^_`{|}~\\t\\n\\n'\n",
    "def remove_punc(text):\n",
    "    no_punc = ''\n",
    "#     no_punc = [ch for ch in text if ch not in punctuations]\n",
    "    for ch in text:\n",
    "        if ch not in punctuations:\n",
    "            no_punc += ch\n",
    "    return no_punc\n",
    "comments1 = comments.apply(lambda text : remove_punc(text))\n",
    "print(comments1.iloc[1]) \n",
    "print(comments.iloc[1]) "
   ]
  },
  {
   "cell_type": "markdown",
   "metadata": {
    "id": "f9dWtR2enXS_"
   },
   "source": [
    "### remove stop words"
   ]
  },
  {
   "cell_type": "code",
   "execution_count": 18,
   "metadata": {
    "id": "R8Gy2y-9nXS_"
   },
   "outputs": [],
   "source": [
    "comments = comments1\n",
    "def remove_stop(text):\n",
    "    ans = []\n",
    "    words = text.split()\n",
    "    for word in words:\n",
    "        if nlp.vocab[word].is_stop == False:\n",
    "            ans.append(word)\n",
    "    return ' '.join(ans)\n",
    "comments = comments.apply(lambda text : remove_stop(text))"
   ]
  },
  {
   "cell_type": "markdown",
   "metadata": {
    "id": "PbsOk8BLnXTE"
   },
   "source": [
    "### lemmatization"
   ]
  },
  {
   "cell_type": "code",
   "execution_count": 19,
   "metadata": {
    "id": "pVdYakwVnXTF"
   },
   "outputs": [],
   "source": [
    "def lemma(text):\n",
    "    ans = []\n",
    "    doc = nlp(text)\n",
    "    for token in doc:\n",
    "        ans.append(token.lemma_)\n",
    "    return ' '.join(ans)"
   ]
  },
  {
   "cell_type": "code",
   "execution_count": 20,
   "metadata": {
    "colab": {
     "base_uri": "https://localhost:8080/",
     "height": 35
    },
    "id": "KBdse9gunXTJ",
    "outputId": "ec50fd8e-14eb-4395-ebb7-ea597e74dad5"
   },
   "outputs": [
    {
     "data": {
      "application/vnd.google.colaboratory.intrinsic+json": {
       "type": "string"
      },
      "text/plain": [
       "'mediation request submit formal mediation action issue thank talk'"
      ]
     },
     "execution_count": 20,
     "metadata": {
      "tags": []
     },
     "output_type": "execute_result"
    }
   ],
   "source": [
    "comments = comments.apply(lambda text : lemma(text))\n",
    "comments.iloc[1]"
   ]
  },
  {
   "cell_type": "code",
   "execution_count": 21,
   "metadata": {
    "colab": {
     "base_uri": "https://localhost:8080/",
     "height": 34
    },
    "id": "vvEM0obknXTN",
    "outputId": "13c9df9c-a8dc-41fa-d0d4-0f6d40948b8d"
   },
   "outputs": [
    {
     "data": {
      "text/plain": [
       "((109344,), (109344, 6))"
      ]
     },
     "execution_count": 21,
     "metadata": {
      "tags": []
     },
     "output_type": "execute_result"
    }
   ],
   "source": [
    "comments.shape , labels.shape"
   ]
  },
  {
   "cell_type": "code",
   "execution_count": 26,
   "metadata": {
    "id": "MgBxc3h-BNB-"
   },
   "outputs": [],
   "source": [
    "from keras.preprocessing.text import Tokenizer\n",
    "tokenizer = Tokenizer()\n",
    "tokenizer.fit_on_texts(comments)\n",
    "comments_tok = tokenizer.texts_to_sequences(comments)\n",
    "comments_tok = np.array(comments_tok)"
   ]
  },
  {
   "cell_type": "code",
   "execution_count": 27,
   "metadata": {
    "colab": {
     "base_uri": "https://localhost:8080/",
     "height": 34
    },
    "id": "lyFy-mCeBdLn",
    "outputId": "f9cc0ef7-7b30-41ad-e164-1fa8b0d4c355"
   },
   "outputs": [
    {
     "data": {
      "text/plain": [
       "(109344,)"
      ]
     },
     "execution_count": 27,
     "metadata": {
      "tags": []
     },
     "output_type": "execute_result"
    }
   ],
   "source": [
    "# len(comments_tok)\n",
    "comments_tok.shape"
   ]
  },
  {
   "cell_type": "code",
   "execution_count": 28,
   "metadata": {
    "id": "j7MovOnACy1u"
   },
   "outputs": [],
   "source": [
    "vocab_size = len(tokenizer.word_counts) + 1"
   ]
  },
  {
   "cell_type": "code",
   "execution_count": 31,
   "metadata": {
    "colab": {
     "base_uri": "https://localhost:8080/",
     "height": 34
    },
    "id": "Qyidj8UyD1Fr",
    "outputId": "dd70eb5b-7905-4b67-ea77-ff9075e37acd"
   },
   "outputs": [
    {
     "data": {
      "text/plain": [
       "(109344, 350)"
      ]
     },
     "execution_count": 31,
     "metadata": {
      "tags": []
     },
     "output_type": "execute_result"
    }
   ],
   "source": [
    "from keras.preprocessing.sequence import pad_sequences\n",
    "max_len = 350\n",
    "comments_pad = pad_sequences(comments_tok , maxlen=max_len, padding='post')\n",
    "comments_pad.shape\n"
   ]
  },
  {
   "cell_type": "code",
   "execution_count": 32,
   "metadata": {
    "colab": {
     "base_uri": "https://localhost:8080/",
     "height": 134
    },
    "id": "jWYJaQQe0jvS",
    "outputId": "5bc685c8-8e2f-42bc-f1b6-7b139ae939f1"
   },
   "outputs": [
    {
     "data": {
      "text/plain": [
       "array([[0, 0, 0, 0, 0, 0],\n",
       "       [0, 0, 0, 0, 0, 0],\n",
       "       [0, 0, 0, 0, 0, 0],\n",
       "       ...,\n",
       "       [0, 0, 0, 0, 0, 0],\n",
       "       [0, 0, 0, 0, 0, 0],\n",
       "       [0, 0, 0, 0, 0, 0]])"
      ]
     },
     "execution_count": 32,
     "metadata": {
      "tags": []
     },
     "output_type": "execute_result"
    }
   ],
   "source": [
    "lab = labels.iloc[: , :].values\n",
    "lab"
   ]
  },
  {
   "cell_type": "code",
   "execution_count": 33,
   "metadata": {
    "colab": {
     "base_uri": "https://localhost:8080/",
     "height": 34
    },
    "id": "xHVS1ZFkGE6G",
    "outputId": "3dda9373-0a30-4939-e2c8-48ec1108663a"
   },
   "outputs": [
    {
     "data": {
      "text/plain": [
       "((82008, 350), (27336, 350), (82008, 6), (27336, 6))"
      ]
     },
     "execution_count": 33,
     "metadata": {
      "tags": []
     },
     "output_type": "execute_result"
    }
   ],
   "source": [
    "from sklearn.model_selection import train_test_split\n",
    "xtrain, xtest , ytrain , ytest = train_test_split(comments_pad , lab , test_size = 0.25)\n",
    "xtrain.shape , xtest.shape , ytrain.shape , ytest.shape "
   ]
  },
  {
   "cell_type": "code",
   "execution_count": 35,
   "metadata": {
    "id": "bhBlizY6nXTt"
   },
   "outputs": [],
   "source": [
    "from keras.models import Sequential\n",
    "from keras.layers import Dense, Dropout , Embedding , Flatten"
   ]
  },
  {
   "cell_type": "code",
   "execution_count": 45,
   "metadata": {
    "colab": {
     "base_uri": "https://localhost:8080/",
     "height": 319
    },
    "id": "mqZ0UVonGmg0",
    "outputId": "ac143335-ab7b-4096-e79f-e4020535282f"
   },
   "outputs": [
    {
     "name": "stdout",
     "output_type": "stream",
     "text": [
      "Model: \"sequential_3\"\n",
      "_________________________________________________________________\n",
      "Layer (type)                 Output Shape              Param #   \n",
      "=================================================================\n",
      "embedding_3 (Embedding)      (None, 350, 50)           5681400   \n",
      "_________________________________________________________________\n",
      "flatten_3 (Flatten)          (None, 17500)             0         \n",
      "_________________________________________________________________\n",
      "dense_6 (Dense)              (None, 700)               12250700  \n",
      "_________________________________________________________________\n",
      "dropout_3 (Dropout)          (None, 700)               0         \n",
      "_________________________________________________________________\n",
      "dense_7 (Dense)              (None, 6)                 4206      \n",
      "=================================================================\n",
      "Total params: 17,936,306\n",
      "Trainable params: 17,936,306\n",
      "Non-trainable params: 0\n",
      "_________________________________________________________________\n"
     ]
    }
   ],
   "source": [
    "model = Sequential()\n",
    "# every word will convert to vector of dimension 50 , Note : try higher values after\n",
    "model.add(Embedding(input_dim = vocab_size , output_dim = 50 , input_length= 350))\n",
    "model.add(Flatten())\n",
    "model.add(Dense(max_len * 2 , activation = 'relu')) \n",
    "model.add(Dropout(0.15))\n",
    "model.add(Dense(6 , activation = 'sigmoid'))\n",
    "model.compile(optimizer = 'adam' , loss = 'binary_crossentropy' , metrics = ['accuracy'])\n",
    "model.summary()"
   ]
  },
  {
   "cell_type": "code",
   "execution_count": 37,
   "metadata": {
    "colab": {
     "base_uri": "https://localhost:8080/",
     "height": 34
    },
    "id": "Jz6ItGwazla2",
    "outputId": "26ca7ead-efc4-483c-a0f1-fba3b1fe5a4a"
   },
   "outputs": [
    {
     "data": {
      "text/plain": [
       "((82008, 350), (82008, 6), (350,))"
      ]
     },
     "execution_count": 37,
     "metadata": {
      "tags": []
     },
     "output_type": "execute_result"
    }
   ],
   "source": [
    "xtrain.shape , ytrain.shape , xtrain[1 , :].shape"
   ]
  },
  {
   "cell_type": "code",
   "execution_count": 46,
   "metadata": {
    "colab": {
     "base_uri": "https://localhost:8080/",
     "height": 101
    },
    "id": "vMoICdUMuXyi",
    "outputId": "8d8c9a0a-9042-4ad5-b145-64780d75a97c"
   },
   "outputs": [
    {
     "name": "stdout",
     "output_type": "stream",
     "text": [
      "Epoch 1/2\n",
      "641/641 [==============================] - 45s 70ms/step - loss: 0.0871 - accuracy: 0.9257\n",
      "Epoch 2/2\n",
      "641/641 [==============================] - 44s 69ms/step - loss: 0.0502 - accuracy: 0.9783\n"
     ]
    },
    {
     "data": {
      "text/plain": [
       "<tensorflow.python.keras.callbacks.History at 0x7f0afe714400>"
      ]
     },
     "execution_count": 46,
     "metadata": {
      "tags": []
     },
     "output_type": "execute_result"
    }
   ],
   "source": [
    "model.fit(xtrain , ytrain , batch_size = 128 , epochs = 2)"
   ]
  },
  {
   "cell_type": "code",
   "execution_count": 47,
   "metadata": {
    "colab": {
     "base_uri": "https://localhost:8080/",
     "height": 168
    },
    "id": "uiP3nRdGnXTx",
    "outputId": "02937883-f0ee-43f1-e4fc-b5838e5639f0"
   },
   "outputs": [
    {
     "name": "stdout",
     "output_type": "stream",
     "text": [
      "              precision    recall  f1-score   support\n",
      "\n",
      "           0       0.96      0.99      0.97     24223\n",
      "           1       0.87      0.69      0.77      3113\n",
      "\n",
      "    accuracy                           0.95     27336\n",
      "   macro avg       0.91      0.84      0.87     27336\n",
      "weighted avg       0.95      0.95      0.95     27336\n",
      "\n"
     ]
    }
   ],
   "source": [
    "ypre = model.predict(xtest)\n",
    "ypred = []\n",
    "for x in ypre[: ,0]:\n",
    "    if x >= 0.5 :\n",
    "        ypred.append(1)\n",
    "    else:\n",
    "        ypred.append(0)\n",
    "from sklearn.metrics import classification_report\n",
    "print(classification_report(ytest[ : ,0] , ypred))"
   ]
  },
  {
   "cell_type": "code",
   "execution_count": 110,
   "metadata": {
    "id": "livNooC16ODz"
   },
   "outputs": [],
   "source": [
    "def pred_toxic(comm):\n",
    "    \n",
    "    comm = comm.apply(lambda text : remove_stop(text))\n",
    "    comm = comm.apply(lambda text : lemma(text))\n",
    "    \n",
    "    # print(len(text))\n",
    "    comm_tok = tokenizer.texts_to_sequences(comm)\n",
    "    comm_tok = np.array(comm_tok)\n",
    "    \n",
    "    comm_pad = pad_sequences(comm_tok , maxlen = max_len , padding = 'post')\n",
    "    comm_pad = np.array(comm_pad)\n",
    "\n",
    "    ypred = model.predict(comm_pad)\n",
    "\n",
    "    for i in range(ypred.shape[0]):\n",
    "        for j in range(6):\n",
    "            if ypred[i][j] >= 0.5:\n",
    "                ypred[i][j] = 1\n",
    "            else:\n",
    "                ypred[i][j] = 0 \n",
    "\n",
    "    print(ypred)\n",
    "   "
   ]
  },
  {
   "cell_type": "code",
   "execution_count": 111,
   "metadata": {
    "colab": {
     "base_uri": "https://localhost:8080/",
     "height": 84
    },
    "id": "EXdSAD_AziNl",
    "outputId": "562dc863-6bdb-4c38-da16-d876effccb00"
   },
   "outputs": [
    {
     "name": "stdout",
     "output_type": "stream",
     "text": [
      "[[1. 0. 0. 0. 0. 0.]\n",
      " [0. 0. 0. 0. 0. 0.]\n",
      " [0. 0. 0. 0. 0. 0.]\n",
      " [1. 0. 1. 0. 1. 0.]]\n"
     ]
    }
   ],
   "source": [
    "sent1 = \"you fool mind your own business\"\n",
    "sent2 = \"you dont know anything !\"\n",
    "sent3 = \"Hello , football match tommorow at my place\"\n",
    "sent4 = \"stay away from me you idiot\"\n",
    "data = [[sent1] ,[sent2] , [sent3] , [sent4]]\n",
    "df = pd.DataFrame(data)\n",
    "comm = df.iloc[: , 0]\n",
    "\n",
    "# df\n",
    "pred_toxic(comm)"
   ]
  }
 ],
 "metadata": {
  "accelerator": "GPU",
  "colab": {
   "name": "Online abuse.ipynb",
   "provenance": [],
   "toc_visible": true
  },
  "kernelspec": {
   "display_name": "Python 3",
   "language": "python",
   "name": "python3"
  },
  "language_info": {
   "codemirror_mode": {
    "name": "ipython",
    "version": 3
   },
   "file_extension": ".py",
   "mimetype": "text/x-python",
   "name": "python",
   "nbconvert_exporter": "python",
   "pygments_lexer": "ipython3",
   "version": "3.7.9"
  }
 },
 "nbformat": 4,
 "nbformat_minor": 1
}
